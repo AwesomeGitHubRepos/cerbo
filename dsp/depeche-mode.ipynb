{
 "cells": [
  {
   "cell_type": "markdown",
   "metadata": {},
   "source": [
    "# Depeche Mode: Just can't get enough\n",
    "\n",
    "References:\n",
    "* [complete list of music symbols](https://melodyful.com/complete-list-of-music-symbols-with-their-meaning) with their meaning\n",
    "* [frequencies of musical notes](https://pages.mtu.edu/~suits/notefreqs.html)\n",
    "* [sheet music](https://www.musicnotes.com/sheetmusic/mtd.asp?ppn=MN0055886)\n"
   ]
  },
  {
   "cell_type": "code",
   "execution_count": 5,
   "metadata": {},
   "outputs": [],
   "source": [
    "import numpy as np\n",
    "import sounddevice as sd"
   ]
  },
  {
   "cell_type": "code",
   "execution_count": 57,
   "metadata": {},
   "outputs": [],
   "source": [
    "c5 = 523.25\n",
    "b = 493.88 # b4\n",
    "a = 440.0 # a4\n",
    "g = 392.0 # g4\n",
    "c = 261.626 # middle c, aka c4\n",
    "\n",
    "x = 0 # rest"
   ]
  },
  {
   "cell_type": "code",
   "execution_count": 81,
   "metadata": {},
   "outputs": [],
   "source": [
    "b_8 = [b, 8]\n",
    "c5_16 = [c5, 16]\n",
    "g_4 = [g, 4]\n",
    "g_8 = [g, 8]\n",
    "g_16 = [g, 16]\n",
    "bar1 = [ [g, 4], g_8, g_16, g_16, [x, 16], g_16, g_8, [a, 8], b_8]\n",
    "bar4 = [[c5, 4], [b, 4], [a, 4], [b, 4]]\n",
    "notes = bar1 + bar1 + bar1 + bar4 + bar1 + bar1 + bar1\n",
    "\n",
    "bar8 = [g_4, g_8, [g, 16], c5_16, [x, 16], c5_16, b_8, [a, 8], [b, 8]]\n",
    "notes += bar8\n"
   ]
  },
  {
   "cell_type": "code",
   "execution_count": 9,
   "metadata": {},
   "outputs": [],
   "source": [
    "# SINE WAVE\n",
    "# from sampling.ipynb\n",
    "# sf: sampling frequency\n",
    "# secs: duration\n",
    "# freq: frequency of output signal\n",
    "def gen_sin(sf, secs, freq):\n",
    "    nsamples = int(secs* sf)\n",
    "    arr = np.zeros(nsamples)\n",
    "    #dt = 1/sf\n",
    "    for i in range(len(arr)):\n",
    "        arr[i] = np.sin((i/sf)*freq*(2*np.pi))\n",
    "    return arr\n",
    "#arr = gen_sin(8000, 5, 440)\n",
    "#sd.play(arr, samplerate = 8000, blocking = True)\n",
    "#plt.plot(arr[0:40])"
   ]
  },
  {
   "cell_type": "code",
   "execution_count": 76,
   "metadata": {},
   "outputs": [],
   "source": [
    "def mknote(note):\n",
    "    freq, dur = note\n",
    "    dur =  4* 0.667 /dur\n",
    "    duty = 0.99\n",
    "    arr1 = gen_sin(8000, dur*duty, freq)\n",
    "    arr2 = gen_sin(8000, dur*(1-duty), 0)\n",
    "    return np.append(arr1, arr2)\n",
    "\n",
    "def mknotes(notes): # list of notes\n",
    "    arr = np.concatenate(list(map(mknote, notes)))\n",
    "    return arr\n",
    "    "
   ]
  },
  {
   "cell_type": "code",
   "execution_count": 19,
   "metadata": {},
   "outputs": [],
   "source": [
    "def play(arr):\n",
    "    sd.play(arr, samplerate = 8000, blocking = True)"
   ]
  },
  {
   "cell_type": "code",
   "execution_count": 77,
   "metadata": {},
   "outputs": [],
   "source": [
    "def play_song(b):\n",
    "    global notes\n",
    "    arr = mknotes(notes)\n",
    "    play(arr)"
   ]
  },
  {
   "cell_type": "code",
   "execution_count": 70,
   "metadata": {},
   "outputs": [
    {
     "data": {
      "application/vnd.jupyter.widget-view+json": {
       "model_id": "7149b0ff4f3143d2a423410c4af27290",
       "version_major": 2,
       "version_minor": 0
      },
      "text/plain": [
       "Button(description='Play', icon='check', style=ButtonStyle(), tooltip='Click me')"
      ]
     },
     "metadata": {},
     "output_type": "display_data"
    },
    {
     "data": {
      "application/vnd.jupyter.widget-view+json": {
       "model_id": "4b32474a2801483da508276858b315a4",
       "version_major": 2,
       "version_minor": 0
      },
      "text/plain": [
       "Output()"
      ]
     },
     "metadata": {},
     "output_type": "display_data"
    }
   ],
   "source": [
    "import ipywidgets as widgets\n",
    "button = widgets.Button(\n",
    "    description='Play',\n",
    "    disabled=False,\n",
    "    button_style='', # 'success', 'info', 'warning', 'danger' or ''\n",
    "    tooltip='Click me',\n",
    "    icon='check'\n",
    ")\n",
    "\n",
    "output = widgets.Output()\n",
    "display(button, output)\n",
    "button.on_click(play_song)\n"
   ]
  },
  {
   "cell_type": "code",
   "execution_count": 82,
   "metadata": {},
   "outputs": [],
   "source": [
    "#play(mknotes(bar8))\n",
    "    "
   ]
  },
  {
   "cell_type": "code",
   "execution_count": null,
   "metadata": {},
   "outputs": [],
   "source": []
  }
 ],
 "metadata": {
  "kernelspec": {
   "display_name": "Python 3",
   "language": "python",
   "name": "python3"
  },
  "language_info": {
   "codemirror_mode": {
    "name": "ipython",
    "version": 3
   },
   "file_extension": ".py",
   "mimetype": "text/x-python",
   "name": "python",
   "nbconvert_exporter": "python",
   "pygments_lexer": "ipython3",
   "version": "3.7.5rc1"
  }
 },
 "nbformat": 4,
 "nbformat_minor": 2
}
